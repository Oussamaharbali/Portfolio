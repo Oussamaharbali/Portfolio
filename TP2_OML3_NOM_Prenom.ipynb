{
  "cells": [
    {
      "cell_type": "markdown",
      "metadata": {
        "id": "view-in-github",
        "colab_type": "text"
      },
      "source": [
        "<a href=\"https://colab.research.google.com/github/Oussamaharbali/Portfolio/blob/main/TP2_OML3_NOM_Prenom.ipynb\" target=\"_parent\"><img src=\"https://colab.research.google.com/assets/colab-badge.svg\" alt=\"Open In Colab\"/></a>"
      ]
    },
    {
      "cell_type": "markdown",
      "id": "974d91ba",
      "metadata": {
        "id": "974d91ba"
      },
      "source": [
        "<span style = \"float:left\"><img src = \"https://upload.wikimedia.org/wikipedia/fr/c/c6/Université_de_Poitiers_%28logo_2012%29.png\" title = \"logo Jupyter\" alt = \"logo GEII\" width = \"125\"></span><span style = \"float:right\" ><img src = \"https://iutp.univ-poitiers.fr/geii/wp-content/uploads/sites/21/2014/03/Logo-GEII-fond-transparent-HR.gif\" title = \"logo Jupyter\" alt = \"logo GEII\" width = \"115\"></span><h3 style = \"text-align:center\">GEII - Angoulême - 2023/2024</h3>"
      ]
    },
    {
      "cell_type": "markdown",
      "id": "e7039357",
      "metadata": {
        "id": "e7039357"
      },
      "source": [
        "\n",
        "---\n",
        "# <center> OML3 - TP : Séries de Fourier </center>\n",
        "---"
      ]
    },
    {
      "cell_type": "code",
      "execution_count": 1,
      "id": "5b91314a",
      "metadata": {
        "id": "5b91314a"
      },
      "outputs": [],
      "source": [
        "import matplotlib.pyplot as plt\n",
        "import pylab\n",
        "from sympy import *\n",
        "from ipywidgets import *\n",
        "\n",
        "\n",
        "x,y,t,p=symbols('x,y,t,p', real=True)\n",
        "n,k=symbols('n,k', integer=True, positive=True)"
      ]
    },
    {
      "cell_type": "markdown",
      "id": "f482e8e5-2674-4009-b872-df79a143bb01",
      "metadata": {
        "id": "f482e8e5-2674-4009-b872-df79a143bb01"
      },
      "source": [
        "## I Signaux sinusoïdaux"
      ]
    },
    {
      "cell_type": "code",
      "execution_count": 1,
      "id": "13626b57-0c7b-4410-ac5e-a0a89bfebbf7",
      "metadata": {
        "id": "13626b57-0c7b-4410-ac5e-a0a89bfebbf7"
      },
      "outputs": [],
      "source": []
    },
    {
      "cell_type": "markdown",
      "id": "ced1e4d5",
      "metadata": {
        "id": "ced1e4d5"
      },
      "source": [
        "## II Etude d'un signal carré\n",
        "\n",
        "### Etude mathématique"
      ]
    },
    {
      "cell_type": "markdown",
      "id": "48156346",
      "metadata": {
        "id": "48156346"
      },
      "source": []
    },
    {
      "cell_type": "markdown",
      "id": "8e40c0f3",
      "metadata": {
        "id": "8e40c0f3"
      },
      "source": [
        "### Vérification des calculs"
      ]
    },
    {
      "cell_type": "code",
      "execution_count": null,
      "id": "442ed319",
      "metadata": {
        "id": "442ed319",
        "outputId": "9239a21c-3500-4b31-9a71-a0bf225bf9ac"
      },
      "outputs": [
        {
          "output_type": "error",
          "ename": "SyntaxError",
          "evalue": "invalid syntax (3247609351.py, line 4)",
          "traceback": [
            "\u001b[1;36m  Cell \u001b[1;32mIn[2], line 4\u001b[1;36m\u001b[0m\n\u001b[1;33m    T= ### A compléter\u001b[0m\n\u001b[1;37m       ^\u001b[0m\n\u001b[1;31mSyntaxError\u001b[0m\u001b[1;31m:\u001b[0m invalid syntax\n"
          ]
        }
      ],
      "source": [
        "def Rect(t):\n",
        "    return ### A compléter\n",
        "\n",
        "T= ### A compléter\n",
        "omega=2*pi/T"
      ]
    },
    {
      "cell_type": "code",
      "execution_count": null,
      "id": "fb321444",
      "metadata": {
        "id": "fb321444"
      },
      "outputs": [],
      "source": [
        "plot(### A compléter)"
      ]
    },
    {
      "cell_type": "code",
      "execution_count": null,
      "id": "8ad12372",
      "metadata": {
        "id": "8ad12372"
      },
      "outputs": [],
      "source": [
        "a0 = ### A compléter\n",
        "a0"
      ]
    },
    {
      "cell_type": "code",
      "execution_count": null,
      "id": "92d1d1c5",
      "metadata": {
        "id": "92d1d1c5"
      },
      "outputs": [],
      "source": [
        "def a(n):\n",
        "    return ### A compléter\n",
        "\n",
        "def b(n):\n",
        "    return ### A compléter"
      ]
    },
    {
      "cell_type": "code",
      "execution_count": null,
      "id": "dfe3bf7c",
      "metadata": {
        "id": "dfe3bf7c"
      },
      "outputs": [],
      "source": [
        "simplify(a(n))"
      ]
    },
    {
      "cell_type": "code",
      "execution_count": null,
      "id": "2c1c6847",
      "metadata": {
        "id": "2c1c6847"
      },
      "outputs": [],
      "source": [
        "simplify(b(n))"
      ]
    },
    {
      "cell_type": "code",
      "execution_count": null,
      "id": "af33a71e",
      "metadata": {
        "id": "af33a71e"
      },
      "outputs": [],
      "source": [
        "simplify(a(2*k))"
      ]
    },
    {
      "cell_type": "code",
      "execution_count": null,
      "id": "982b59be",
      "metadata": {
        "id": "982b59be"
      },
      "outputs": [],
      "source": [
        "simplify(a(2*k+1))"
      ]
    },
    {
      "cell_type": "code",
      "execution_count": null,
      "id": "670bef22",
      "metadata": {
        "id": "670bef22"
      },
      "outputs": [],
      "source": [
        "simplify(b(2*k))"
      ]
    },
    {
      "cell_type": "code",
      "execution_count": null,
      "id": "7f8d0dc3",
      "metadata": {
        "id": "7f8d0dc3"
      },
      "outputs": [],
      "source": [
        "simplify(b(2*k+1))"
      ]
    },
    {
      "cell_type": "code",
      "execution_count": null,
      "id": "cddc34f3",
      "metadata": {
        "id": "cddc34f3"
      },
      "outputs": [],
      "source": [
        "def F_Rect(Nh,t):\n",
        "    ### A compléter\n",
        "    return ### A compléter"
      ]
    },
    {
      "cell_type": "code",
      "execution_count": null,
      "id": "fbc4fc6f",
      "metadata": {
        "id": "fbc4fc6f"
      },
      "outputs": [],
      "source": [
        "def plot_F_Rect(Nh, Np):\n",
        "    plot(### A compléter)"
      ]
    },
    {
      "cell_type": "code",
      "execution_count": null,
      "id": "8873620f",
      "metadata": {
        "scrolled": true,
        "id": "8873620f"
      },
      "outputs": [],
      "source": [
        "from ipywidgets import *\n",
        "\n",
        "interact(### A compléter\n",
        "        )"
      ]
    },
    {
      "cell_type": "code",
      "execution_count": null,
      "id": "36833dbe",
      "metadata": {
        "id": "36833dbe",
        "outputId": "20f690dc-f3c0-4f1e-b5de-0a4a5e5de576"
      },
      "outputs": [
        {
          "output_type": "error",
          "ename": "SyntaxError",
          "evalue": "'(' was never closed (2564096796.py, line 7)",
          "traceback": [
            "\u001b[1;36m  Cell \u001b[1;32mIn[3], line 7\u001b[1;36m\u001b[0m\n\u001b[1;33m    y.append(### A compléter : ce sont les ordonnées des sommets des bâtons)\u001b[0m\n\u001b[1;37m            ^\u001b[0m\n\u001b[1;31mSyntaxError\u001b[0m\u001b[1;31m:\u001b[0m '(' was never closed\n"
          ]
        }
      ],
      "source": [
        "fig =plt.figure()\n",
        "x=[0]\n",
        "y=[a0]\n",
        "\n",
        "for i in range (1,11):\n",
        "    x.append(### A compléter : ce sont les abscisses des sommets des bâtons)\n",
        "    y.append(### A compléter : ce sont les ordonnées des sommets des bâtons)\n",
        "\n",
        "\n",
        "width=0.2\n",
        "\n",
        "plt.bar(x, y, width, color='b')\n",
        "plt.title('Spectre des fréquences')\n",
        "plt.xlabel(r'$n \\times \\omega$')\n",
        "pylab.xticks(x)\n",
        "\n",
        "plt.show()\n",
        "\n"
      ]
    },
    {
      "cell_type": "markdown",
      "id": "4b20abd3",
      "metadata": {
        "id": "4b20abd3"
      },
      "source": [
        "## III Etude d'un signal en dent de scie\n",
        "\n",
        "### Etude mathématique"
      ]
    },
    {
      "cell_type": "markdown",
      "id": "5cc944a7",
      "metadata": {
        "id": "5cc944a7"
      },
      "source": []
    },
    {
      "cell_type": "markdown",
      "id": "ee86de95",
      "metadata": {
        "id": "ee86de95"
      },
      "source": [
        "### Vérification des calculs"
      ]
    }
  ],
  "metadata": {
    "kernelspec": {
      "name": "python3",
      "display_name": "Python 3.10.11 64-bit"
    },
    "language_info": {
      "codemirror_mode": {
        "name": "ipython",
        "version": 3
      },
      "file_extension": ".py",
      "mimetype": "text/x-python",
      "name": "python",
      "nbconvert_exporter": "python",
      "pygments_lexer": "ipython3",
      "version": "3.10.11"
    },
    "toc": {
      "base_numbering": 1,
      "nav_menu": {},
      "number_sections": true,
      "sideBar": true,
      "skip_h1_title": false,
      "title_cell": "Table of Contents",
      "title_sidebar": "Contents",
      "toc_cell": false,
      "toc_position": {},
      "toc_section_display": true,
      "toc_window_display": false
    },
    "interpreter": {
      "hash": "7cdd6265b71d11245ab71a1c2149747ef8e87e852204064a8a2a3c0d7b107b96"
    },
    "colab": {
      "provenance": [],
      "include_colab_link": true
    }
  },
  "nbformat": 4,
  "nbformat_minor": 5
}